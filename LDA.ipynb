{
 "cells": [
  {
   "cell_type": "markdown",
   "metadata": {},
   "source": [
    "# Análisis Discriminante"
   ]
  },
  {
   "cell_type": "markdown",
   "metadata": {},
   "source": [
    "## 1. Preparación de ambiente de trabajo"
   ]
  },
  {
   "cell_type": "code",
   "execution_count": 1,
   "metadata": {},
   "outputs": [],
   "source": [
    "import numpy as np\n",
    "import pandas as pd\n",
    "import seaborn as sns\n",
    "import matplotlib.pyplot as plt\n",
    "\n",
    "from sklearn.metrics import classification_report\n",
    "from sklearn.model_selection import train_test_split, cross_val_score\n",
    "from sklearn.preprocessing import LabelEncoder, StandardScaler, LabelBinarizer\n",
    "from sklearn.discriminant_analysis import LinearDiscriminantAnalysis, QuadraticDiscriminantAnalysis\n",
    "\n",
    "from imblearn.over_sampling import SMOTE\n",
    "\n",
    "df = pd.read_csv('default_credit.csv',index_col=0)\n",
    "\n",
    "plt.style.use('seaborn')                \n",
    "plt.rcParams['figure.figsize'] = (8,6)  "
   ]
  },
  {
   "cell_type": "code",
   "execution_count": 2,
   "metadata": {
    "scrolled": true
   },
   "outputs": [
    {
     "data": {
      "text/html": [
       "<div>\n",
       "<style scoped>\n",
       "    .dataframe tbody tr th:only-of-type {\n",
       "        vertical-align: middle;\n",
       "    }\n",
       "\n",
       "    .dataframe tbody tr th {\n",
       "        vertical-align: top;\n",
       "    }\n",
       "\n",
       "    .dataframe thead th {\n",
       "        text-align: right;\n",
       "    }\n",
       "</style>\n",
       "<table border=\"1\" class=\"dataframe\">\n",
       "  <thead>\n",
       "    <tr style=\"text-align: right;\">\n",
       "      <th></th>\n",
       "      <th>default</th>\n",
       "      <th>student</th>\n",
       "      <th>balance</th>\n",
       "      <th>income</th>\n",
       "    </tr>\n",
       "    <tr>\n",
       "      <th>index</th>\n",
       "      <th></th>\n",
       "      <th></th>\n",
       "      <th></th>\n",
       "      <th></th>\n",
       "    </tr>\n",
       "  </thead>\n",
       "  <tbody>\n",
       "    <tr>\n",
       "      <th>1</th>\n",
       "      <td>No</td>\n",
       "      <td>No</td>\n",
       "      <td>729.526495</td>\n",
       "      <td>44361.625074</td>\n",
       "    </tr>\n",
       "    <tr>\n",
       "      <th>2</th>\n",
       "      <td>No</td>\n",
       "      <td>Yes</td>\n",
       "      <td>817.180407</td>\n",
       "      <td>12106.134700</td>\n",
       "    </tr>\n",
       "    <tr>\n",
       "      <th>3</th>\n",
       "      <td>No</td>\n",
       "      <td>No</td>\n",
       "      <td>1073.549164</td>\n",
       "      <td>31767.138947</td>\n",
       "    </tr>\n",
       "    <tr>\n",
       "      <th>4</th>\n",
       "      <td>No</td>\n",
       "      <td>No</td>\n",
       "      <td>529.250605</td>\n",
       "      <td>35704.493935</td>\n",
       "    </tr>\n",
       "    <tr>\n",
       "      <th>5</th>\n",
       "      <td>No</td>\n",
       "      <td>No</td>\n",
       "      <td>785.655883</td>\n",
       "      <td>38463.495879</td>\n",
       "    </tr>\n",
       "  </tbody>\n",
       "</table>\n",
       "</div>"
      ],
      "text/plain": [
       "      default student      balance        income\n",
       "index                                           \n",
       "1          No      No   729.526495  44361.625074\n",
       "2          No     Yes   817.180407  12106.134700\n",
       "3          No      No  1073.549164  31767.138947\n",
       "4          No      No   529.250605  35704.493935\n",
       "5          No      No   785.655883  38463.495879"
      ]
     },
     "execution_count": 2,
     "metadata": {},
     "output_type": "execute_result"
    }
   ],
   "source": [
    "df.head()"
   ]
  },
  {
   "cell_type": "code",
   "execution_count": 3,
   "metadata": {},
   "outputs": [
    {
     "name": "stdout",
     "output_type": "stream",
     "text": [
      "<class 'pandas.core.frame.DataFrame'>\n",
      "Int64Index: 10000 entries, 1 to 10000\n",
      "Data columns (total 4 columns):\n",
      " #   Column   Non-Null Count  Dtype  \n",
      "---  ------   --------------  -----  \n",
      " 0   default  10000 non-null  object \n",
      " 1   student  10000 non-null  object \n",
      " 2   balance  10000 non-null  float64\n",
      " 3   income   10000 non-null  float64\n",
      "dtypes: float64(2), object(2)\n",
      "memory usage: 390.6+ KB\n"
     ]
    }
   ],
   "source": [
    "df.info()"
   ]
  },
  {
   "cell_type": "code",
   "execution_count": 4,
   "metadata": {},
   "outputs": [
    {
     "data": {
      "image/png": "[encoded data removed]",
      "text/plain": [
       "<Figure size 1080x2160 with 2 Axes>"
      ]
     },
     "metadata": {},
     "output_type": "display_data"
    }
   ],
   "source": [
    "fig,_ = plt.subplots(figsize = (15,30))\n",
    "\n",
    "for i, (colname,col) in enumerate (df.select_dtypes('O').iteritems()):\n",
    "    plt.subplot(6,3,i+1)\n",
    "    sns.countplot(y = df[colname],)\n",
    "    plt.title(colname)\n",
    "    plt.xlabel(\"\")\n",
    "    plt.tight_layout()"
   ]
  },
  {
   "cell_type": "code",
   "execution_count": 5,
   "metadata": {},
   "outputs": [
    {
     "data": {
      "image/png": "[encoded data removed]",
      "text/plain": [
       "<Figure size 1080x432 with 2 Axes>"
      ]
     },
     "metadata": {},
     "output_type": "display_data"
    }
   ],
   "source": [
    "fig,ax = plt.subplots(1,2,figsize = (15,6))\n",
    "ax[0].set_title('income',size=14)\n",
    "ax[1].set_title('balance',size=14)\n",
    "\n",
    "\n",
    "sns.distplot(df.income,ax=ax[0],color='darkgreen',kde=False)\n",
    "sns.distplot(df.balance,ax=ax[1],color='orange',kde=False)\n",
    "\n",
    "\n",
    "mean_balance=df['balance'].mean()\n",
    "mean_income=df['income'].mean()\n",
    "\n",
    "ax[0].axvline(mean_income, color='r', linestyle='--')\n",
    "ax[1].axvline(mean_balance, color='r', linestyle='--')\n",
    "\n",
    "sns.despine();"
   ]
  },
  {
   "cell_type": "markdown",
   "metadata": {},
   "source": [
    "En los gráficos que poseen las variables discretas, existe un evidente desbalance de clases, lo cual deberá ser considerado o compensado, al momento de generar los modelos.\n",
    "\n",
    "En cuanto a la distribución del ingreso, esta no posee una distribución normal. Por su parte el balance, si tiene una distribución tipo Gaussiana, sin embargo tiene una gran cantidad de valores cercanos a 0."
   ]
  },
  {
   "cell_type": "markdown",
   "metadata": {},
   "source": [
    "## 2. Modelo base"
   ]
  },
  {
   "cell_type": "code",
   "execution_count": 6,
   "metadata": {},
   "outputs": [],
   "source": [
    "class MultiColumnLabelEncoder:\n",
    "    def __init__(self,columns = None):\n",
    "        self.columns = columns \n",
    "\n",
    "    def fit(self,X,y=None):\n",
    "        return self \n",
    "\n",
    "    def transform(self,X):\n",
    "  \n",
    "        output = X.copy()\n",
    "        if self.columns is not None:\n",
    "            for col in self.columns:\n",
    "                output[col] = LabelEncoder().fit_transform(output[col])\n",
    "        else:\n",
    "            for colname,col in output.iteritems():\n",
    "                output[colname] = LabelEncoder().fit_transform(col)\n",
    "        return output\n",
    "\n",
    "    def fit_transform(self,X,y=None):\n",
    "        return self.fit(X,y).transform(X)"
   ]
  },
  {
   "cell_type": "code",
   "execution_count": 7,
   "metadata": {},
   "outputs": [],
   "source": [
    "df = MultiColumnLabelEncoder(columns = ['default','student']).fit_transform(df)"
   ]
  },
  {
   "cell_type": "code",
   "execution_count": 8,
   "metadata": {},
   "outputs": [
    {
     "data": {
      "text/html": [
       "<div>\n",
       "<style scoped>\n",
       "    .dataframe tbody tr th:only-of-type {\n",
       "        vertical-align: middle;\n",
       "    }\n",
       "\n",
       "    .dataframe tbody tr th {\n",
       "        vertical-align: top;\n",
       "    }\n",
       "\n",
       "    .dataframe thead th {\n",
       "        text-align: right;\n",
       "    }\n",
       "</style>\n",
       "<table border=\"1\" class=\"dataframe\">\n",
       "  <thead>\n",
       "    <tr style=\"text-align: right;\">\n",
       "      <th></th>\n",
       "      <th>default</th>\n",
       "      <th>student</th>\n",
       "      <th>balance</th>\n",
       "      <th>income</th>\n",
       "    </tr>\n",
       "    <tr>\n",
       "      <th>index</th>\n",
       "      <th></th>\n",
       "      <th></th>\n",
       "      <th></th>\n",
       "      <th></th>\n",
       "    </tr>\n",
       "  </thead>\n",
       "  <tbody>\n",
       "    <tr>\n",
       "      <th>1</th>\n",
       "      <td>0</td>\n",
       "      <td>0</td>\n",
       "      <td>729.526495</td>\n",
       "      <td>44361.625074</td>\n",
       "    </tr>\n",
       "    <tr>\n",
       "      <th>2</th>\n",
       "      <td>0</td>\n",
       "      <td>1</td>\n",
       "      <td>817.180407</td>\n",
       "      <td>12106.134700</td>\n",
       "    </tr>\n",
       "    <tr>\n",
       "      <th>3</th>\n",
       "      <td>0</td>\n",
       "      <td>0</td>\n",
       "      <td>1073.549164</td>\n",
       "      <td>31767.138947</td>\n",
       "    </tr>\n",
       "    <tr>\n",
       "      <th>4</th>\n",
       "      <td>0</td>\n",
       "      <td>0</td>\n",
       "      <td>529.250605</td>\n",
       "      <td>35704.493935</td>\n",
       "    </tr>\n",
       "    <tr>\n",
       "      <th>5</th>\n",
       "      <td>0</td>\n",
       "      <td>0</td>\n",
       "      <td>785.655883</td>\n",
       "      <td>38463.495879</td>\n",
       "    </tr>\n",
       "    <tr>\n",
       "      <th>...</th>\n",
       "      <td>...</td>\n",
       "      <td>...</td>\n",
       "      <td>...</td>\n",
       "      <td>...</td>\n",
       "    </tr>\n",
       "    <tr>\n",
       "      <th>9996</th>\n",
       "      <td>0</td>\n",
       "      <td>0</td>\n",
       "      <td>711.555020</td>\n",
       "      <td>52992.378914</td>\n",
       "    </tr>\n",
       "    <tr>\n",
       "      <th>9997</th>\n",
       "      <td>0</td>\n",
       "      <td>0</td>\n",
       "      <td>757.962918</td>\n",
       "      <td>19660.721768</td>\n",
       "    </tr>\n",
       "    <tr>\n",
       "      <th>9998</th>\n",
       "      <td>0</td>\n",
       "      <td>0</td>\n",
       "      <td>845.411989</td>\n",
       "      <td>58636.156984</td>\n",
       "    </tr>\n",
       "    <tr>\n",
       "      <th>9999</th>\n",
       "      <td>0</td>\n",
       "      <td>0</td>\n",
       "      <td>1569.009053</td>\n",
       "      <td>36669.112365</td>\n",
       "    </tr>\n",
       "    <tr>\n",
       "      <th>10000</th>\n",
       "      <td>0</td>\n",
       "      <td>1</td>\n",
       "      <td>200.922183</td>\n",
       "      <td>16862.952321</td>\n",
       "    </tr>\n",
       "  </tbody>\n",
       "</table>\n",
       "<p>10000 rows × 4 columns</p>\n",
       "</div>"
      ],
      "text/plain": [
       "       default  student      balance        income\n",
       "index                                             \n",
       "1            0        0   729.526495  44361.625074\n",
       "2            0        1   817.180407  12106.134700\n",
       "3            0        0  1073.549164  31767.138947\n",
       "4            0        0   529.250605  35704.493935\n",
       "5            0        0   785.655883  38463.495879\n",
       "...        ...      ...          ...           ...\n",
       "9996         0        0   711.555020  52992.378914\n",
       "9997         0        0   757.962918  19660.721768\n",
       "9998         0        0   845.411989  58636.156984\n",
       "9999         0        0  1569.009053  36669.112365\n",
       "10000        0        1   200.922183  16862.952321\n",
       "\n",
       "[10000 rows x 4 columns]"
      ]
     },
     "execution_count": 8,
     "metadata": {},
     "output_type": "execute_result"
    }
   ],
   "source": [
    "df"
   ]
  },
  {
   "cell_type": "code",
   "execution_count": 9,
   "metadata": {},
   "outputs": [],
   "source": [
    "y_vec = df['default']\n",
    "X_mat = df.drop(['default'],axis=1)"
   ]
  },
  {
   "cell_type": "code",
   "execution_count": 10,
   "metadata": {},
   "outputs": [],
   "source": [
    "X_train, X_test, y_train, y_test = train_test_split(X_mat,\n",
    "                                                    y_vec,\n",
    "                                                    test_size=0.33,\n",
    "                                                    random_state=123)"
   ]
  },
  {
   "cell_type": "code",
   "execution_count": 11,
   "metadata": {},
   "outputs": [],
   "source": [
    "X_train = StandardScaler().fit_transform(X_train)\n",
    "\n",
    "X_test = StandardScaler().fit_transform(X_test)"
   ]
  },
  {
   "cell_type": "code",
   "execution_count": 12,
   "metadata": {},
   "outputs": [],
   "source": [
    "lda_classifier = LinearDiscriminantAnalysis()\n",
    "lda_classifier.fit(X_train, y_train)\n",
    "y_hat = lda_classifier.predict(X_test)"
   ]
  },
  {
   "cell_type": "code",
   "execution_count": 13,
   "metadata": {},
   "outputs": [],
   "source": [
    "def plot_class_report(y_test, y_hat, classes_labels):\n",
    "\n",
    "    plt.figure(figsize=(15, 10))\n",
    "    tmp_report = classification_report(y_test, y_hat, output_dict=True)\n",
    "    targets = list(classes_labels)\n",
    "    targets.append('average')\n",
    "    tmp_report = pd.DataFrame(tmp_report)\\\n",
    "                    .drop(columns=['weighted avg', 'macro avg'])\n",
    "    tmp_report.columns = targets\n",
    "    tmp_report = tmp_report.drop(labels='support')\n",
    "    tmp_report = tmp_report.drop(columns='average')\n",
    "    tmp_report = tmp_report.T\n",
    "\n",
    "    for index, (colname, serie) in enumerate(tmp_report.iteritems()):\n",
    "        plt.subplot(3, 1, index + 1)\n",
    "        serie.plot(kind = 'barh')\n",
    "        plt.title(f\"Métrica: {colname}\")\n",
    "        plt.tight_layout()"
   ]
  },
  {
   "cell_type": "code",
   "execution_count": 14,
   "metadata": {},
   "outputs": [],
   "source": [
    "target_label = ['0','1']"
   ]
  },
  {
   "cell_type": "code",
   "execution_count": 15,
   "metadata": {},
   "outputs": [],
   "source": [
    "def plot_class_report(y_test, y_hat, classes_labels):\n",
    "\n",
    "    plt.figure(figsize=(15, 10))\n",
    "    tmp_report = classification_report(y_test, y_hat, output_dict=True)\n",
    "    targets = list(classes_labels)\n",
    "    targets.append('average')\n",
    "    tmp_report = pd.DataFrame(tmp_report)\\\n",
    "                    .drop(columns=['weighted avg', 'macro avg'])\n",
    "    tmp_report.columns = targets\n",
    "    tmp_report = tmp_report.drop(labels='support')\n",
    "    tmp_report = tmp_report.drop(columns='average')\n",
    "    tmp_report = tmp_report.T\n",
    "\n",
    "    for index, (colname, serie) in enumerate(tmp_report.iteritems()):\n",
    "        plt.subplot(3, 1, index + 1)\n",
    "        serie.plot(kind = 'barh')\n",
    "        plt.title(f\"Métrica: {colname}\")\n",
    "        plt.tight_layout()"
   ]
  },
  {
   "cell_type": "code",
   "execution_count": 16,
   "metadata": {},
   "outputs": [
    {
     "data": {
      "image/png": "[encoded data removed]",
      "text/plain": [
       "<Figure size 1080x720 with 3 Axes>"
      ]
     },
     "metadata": {},
     "output_type": "display_data"
    }
   ],
   "source": [
    "plot_class_report(y_test, y_hat, target_label)"
   ]
  },
  {
   "cell_type": "markdown",
   "metadata": {},
   "source": [
    "Lo más que más llama la atención de los tres gráficos con el modelo LDA, es que el recall, que da cuenta del número de personas con deudas que esta registrando el modelo, es bajo. Solo está captando aproximadamente un 20% de todos los valores que realemente serían clasificados como deuda, los otros clientes, no los estaría captando, es decir un 80% de los clientes con deuda, pasarían por alto.\n",
    "\n",
    "El F1 da cuenta de la misma situación que en el recall, pero el desempeño es alto en cuanto a los valores de 0."
   ]
  },
  {
   "cell_type": "markdown",
   "metadata": {},
   "source": [
    "## 3. Refactorización 1 - información a priori"
   ]
  },
  {
   "cell_type": "code",
   "execution_count": 17,
   "metadata": {},
   "outputs": [],
   "source": [
    "lda_50_classifier = LinearDiscriminantAnalysis(priors=[.5,.5])\n",
    "lda_50_classifier.fit(X_train, y_train)\n",
    "y_50_hat = lda_50_classifier.predict(X_test)"
   ]
  },
  {
   "cell_type": "code",
   "execution_count": 18,
   "metadata": {
    "scrolled": true
   },
   "outputs": [
    {
     "data": {
      "image/png": "[encoded data removed]",
      "text/plain": [
       "<Figure size 1080x720 with 3 Axes>"
      ]
     },
     "metadata": {},
     "output_type": "display_data"
    }
   ],
   "source": [
    "plot_class_report(y_test, y_50_hat, target_label)"
   ]
  },
  {
   "cell_type": "markdown",
   "metadata": {},
   "source": [
    "En este caso, el modelo LDA con un 50% de las muestra con deuda, se mejora el recall para la variable a detectar (morosidad), sin embargo disminuye su desempeño en la métrica de presición. Esto quiere decir que de todos los valores sensados, entre un 15% a 20%, efectivamente eran clientes con deudas (True Positive).\n",
    "\n",
    "Finalmente, al comparar el F1 con el modelo anterior, el desempeño es levemente mejor para detectar posibles clientes endudados, pero baja levemente respecto a los clientes sin deuda.\n"
   ]
  },
  {
   "cell_type": "code",
   "execution_count": 19,
   "metadata": {},
   "outputs": [],
   "source": [
    "lda_60_classifier = LinearDiscriminantAnalysis(priors=[.6,.4])\n",
    "lda_60_classifier.fit(X_train, y_train)\n",
    "y_60_hat = lda_60_classifier.predict(X_test)"
   ]
  },
  {
   "cell_type": "code",
   "execution_count": 20,
   "metadata": {},
   "outputs": [
    {
     "data": {
      "image/png": "[encoded data removed]",
      "text/plain": [
       "<Figure size 1080x720 with 3 Axes>"
      ]
     },
     "metadata": {},
     "output_type": "display_data"
    }
   ],
   "source": [
    "plot_class_report(y_test, y_60_hat, target_label)"
   ]
  },
  {
   "cell_type": "markdown",
   "metadata": {},
   "source": [
    "El modelo LDA con un 60% de los datos, tiene el mejor desemepeño de F1 de todos los modelos. El recall sube considerablemente, por lo tanto hay pocas omisiones de los valores verdaderos (recall), pero también detecta más valores que son de otras clases (presición). \n",
    "\n",
    "A pesar de la mejora, en general no es un modelo óptimo o ideal."
   ]
  },
  {
   "cell_type": "markdown",
   "metadata": {},
   "source": [
    "## 4. Refactorización 2 - oversampling"
   ]
  },
  {
   "cell_type": "code",
   "execution_count": 21,
   "metadata": {},
   "outputs": [],
   "source": [
    "oversampler = SMOTE(random_state=138,sampling_strategy='minority')\n",
    "\n",
    "X_train_oversamp, y_train_oversamp = oversampler.fit_sample(X_train, y_train)"
   ]
  },
  {
   "cell_type": "code",
   "execution_count": 22,
   "metadata": {},
   "outputs": [],
   "source": [
    "lda_classifier = LinearDiscriminantAnalysis()\n",
    "lda_classifier.fit(X_train_oversamp, y_train_oversamp)\n",
    "y_hat_lda_oversamp = lda_classifier.predict(X_test)"
   ]
  },
  {
   "cell_type": "code",
   "execution_count": 23,
   "metadata": {},
   "outputs": [
    {
     "data": {
      "image/png": "[encoded data removed]",
      "text/plain": [
       "<Figure size 1080x720 with 3 Axes>"
      ]
     },
     "metadata": {},
     "output_type": "display_data"
    }
   ],
   "source": [
    "plot_class_report(y_test, y_hat_lda_oversamp, target_label)"
   ]
  },
  {
   "cell_type": "markdown",
   "metadata": {},
   "source": [
    "## 5. Refactorización 3 - QDA"
   ]
  },
  {
   "cell_type": "code",
   "execution_count": 24,
   "metadata": {},
   "outputs": [],
   "source": [
    "qda_classifier = QuadraticDiscriminantAnalysis()\n",
    "qda_classifier.fit(X_train_oversamp, y_train_oversamp)\n",
    "y_hat_qda_oversamp = qda_classifier.predict(X_test)"
   ]
  },
  {
   "cell_type": "code",
   "execution_count": 25,
   "metadata": {},
   "outputs": [
    {
     "data": {
      "image/png": "[encoded data removed]",
      "text/plain": [
       "<Figure size 1080x720 with 3 Axes>"
      ]
     },
     "metadata": {},
     "output_type": "display_data"
    }
   ],
   "source": [
    "plot_class_report(y_test, y_hat_qda_oversamp, target_label)"
   ]
  },
  {
   "cell_type": "markdown",
   "metadata": {},
   "source": [
    "En cuanto a los modelos LDA y QDA, con Oversampling (Problemas 4 y 5), no se aprecian diferencias importantes en sus desempeños.\n",
    "\n",
    "Si evaluamos el desempeño general de los modelos, con la media armónica de entre Recall y Precision, el modelo que \n",
    "mejor se ajusta al problema, sería el que está desarrollado con LDA y con un 60% de los clientes morosos.\n",
    "\n",
    "De todas maneras habría que evaluar equipara aún más la muestra del los clientes morosos, sobre el 60% de la muestra, para conocer si hay otros modelos con mejores desempeños para el puntaje F1 de la variable objetivo."
   ]
  }
 ],
 "metadata": {
  "kernelspec": {
   "display_name": "Python 3",
   "language": "python",
   "name": "python3"
  },
  "language_info": {
   "codemirror_mode": {
    "name": "ipython",
    "version": 3
   },
   "file_extension": ".py",
   "mimetype": "text/x-python",
   "name": "python",
   "nbconvert_exporter": "python",
   "pygments_lexer": "ipython3",
   "version": "3.8.5"
  }
 },
 "nbformat": 4,
 "nbformat_minor": 4
}
